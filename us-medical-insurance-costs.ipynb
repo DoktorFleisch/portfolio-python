{
 "cells": [
  {
   "cell_type": "markdown",
   "metadata": {},
   "source": [
    "# U.S. Medical Insurance Costs"
   ]
  },
  {
   "cell_type": "markdown",
   "metadata": {},
   "source": [
    "## Goals:\n",
    "\n",
    "### Does age, sex, bmi, amount of children, smoking and region affect the charges?\n",
    "### What is the min, max and average age?\n",
    "### What is the proportion of sex, smokers and parents to the total amount?\n",
    "### Where do the least, most and average persons live?\n",
    "### Conclusion\n",
    "\n",
    "## Data:\n",
    "\n",
    "### Import and Convert Data:\n",
    "\n",
    "1. First import the csv into python and convert the object in a list of lists, where each list is a row of the table.\n",
    "    1.1 Use with-function to open insurance.csv as insurance_obj\n",
    "    1.2 Create empty list variable \"person_dates\".\n",
    "    1.3 Iterate through each row in insurance_obj and append it to the \"person_dates\" list.\n",
    "    1.4 Create for each feature a list (after whitespaces are removed)\n",
    "### Clean Data:\n",
    "\n",
    "1. Strip all whitespaces from each column.\n",
    "    1.1 Create an empty list variable called \"cleaned_person_dates\".\n",
    "    1.2 Iterate through each row and column to strip the whitespaces\n",
    "    1.3 Add a cleaned row to \"cleaned_person_dates\"\n",
    "\n",
    "2. Convert to right datatypes\n",
    "    2.1 Convert each column with a apropriate datatype\n",
    "    2.2 Clean each column.\n",
    "\n",
    "## Analysis:\n",
    "\n",
    "### [Feature] affects charges?\n",
    "\n",
    "1. Group each feature and calculate the mean, max and min charge of each.\n",
    "2. Compare those values with eachother.\n",
    "\n",
    "### Age and region analysis\n",
    "1. Group [feature] and calculate the min, max and average age\n",
    "\n",
    "### Proportions\n",
    "1. Calculate the sum of [feature] and divide it to the total amount of persons.\n",
    "\n",
    "\n",
    "## Sum\n",
    "\n",
    "Conclude what you´ve learned from the analysis."
   ]
  },
  {
   "cell_type": "code",
   "execution_count": 2,
   "metadata": {},
   "outputs": [],
   "source": [
    "import csv"
   ]
  },
  {
   "cell_type": "code",
   "execution_count": 14,
   "metadata": {},
   "outputs": [],
   "source": [
    "person_dates = []\n",
    "\n",
    "with open(\"insurance.csv\") as insurance_obj:\n",
    "        insurance_csv = csv.DictReader(insurance_obj)\n",
    "        header = list(insurance_csv.fieldnames)\n",
    "        \n",
    "        for row in insurance_csv:\n",
    "            row_values = [row[key] for key in header]\n",
    "            person_dates.append(row_values)"
   ]
  },
  {
   "cell_type": "code",
   "execution_count": 37,
   "metadata": {},
   "outputs": [],
   "source": [
    "stripped_person_dates = []\n",
    "\n",
    "for row in person_dates:\n",
    "    row_cleaned = []\n",
    "    row_cleaned.append([column.strip() for column in row])\n",
    "    stripped_person_dates.append([column.strip() for column in row])"
   ]
  },
  {
   "cell_type": "code",
   "execution_count": 47,
   "metadata": {},
   "outputs": [],
   "source": [
    "ages = [int(row[0]) for row in person_dates]\n",
    "sex = [(row[1] == \"male\") for row in person_dates]\n",
    "bmis = [float(row[2]) for row in person_dates]\n",
    "amount_children = [int(row[3]) for row in person_dates]\n",
    "smoker = [(row[4] == \"yes\") for row in person_dates]\n",
    "region = [row[5] for row in person_dates]\n",
    "charges = [float(row[6]) for row in person_dates]"
   ]
  },
  {
   "cell_type": "markdown",
   "metadata": {},
   "source": [
    "#### Note:\n",
    "Male = 1 and female = 0 in sex.\n",
    "No = 0 and yes = 1 in smoker"
   ]
  },
  {
   "cell_type": "code",
   "execution_count": 87,
   "metadata": {},
   "outputs": [],
   "source": [
    "class person_analysis:\n",
    "    def __init__(self, ages, sex, bmis, amount_children, smoker, region, charges):\n",
    "        self.ages = ages\n",
    "        self.sex = sex\n",
    "        self.bmis = bmis\n",
    "        self.amount_children = amount_children\n",
    "        self.smoker = smoker\n",
    "        self.region = region\n",
    "        self.charges = charges\n",
    "    \n",
    "    def analyse_numerical_features(self):\n",
    "        def min_max_mean(feature):\n",
    "            return min(feature), max(feature), sum(feature)/len(feature)\n",
    "        \n",
    "        min_age, max_age, mean_age = min_max_mean(self.ages)\n",
    "        min_bmis, max_bmis, mean_bmis = min_max_mean(self.bmis)\n",
    "        min_children, max_children, mean_children = min_max_mean(self.amount_children)\n",
    "        min_charges, max_charges, mean_charges = min_max_mean(self.charges)\n",
    "        \n",
    "        print(f\"The youngest person is: {min_age}, the oldest person is: {max_age} and the average age is: {mean_age}\")\n",
    "        print(f\"The lowest bmi is: {min_bmis}, the highest bmi is: {max_bmis} and the average bmi is: {mean_bmis}\")\n",
    "        print(f\"The least amount of children is: {min_children}, the fewest amount of children is: {max_children} and the average amount of children is: {mean_children}\")\n",
    "        print(f\"The lowest charge is: {min_charges}, the highest charge is: {max_charges} and the average charge is: {mean_charges} \")"
   ]
  },
  {
   "cell_type": "code",
   "execution_count": 88,
   "metadata": {},
   "outputs": [],
   "source": [
    "person_analysis = person_analysis(ages, sex, bmis, amount_children, smoker, region, charges)"
   ]
  },
  {
   "cell_type": "code",
   "execution_count": 89,
   "metadata": {},
   "outputs": [
    {
     "name": "stdout",
     "output_type": "stream",
     "text": [
      "The youngest person is: 18, the oldest person is: 64 and the average age is: 39.20702541106129\n",
      "The lowest bmi is: 15.96, the highest bmi is: 53.13 and the average bmi is: 30.663396860986538\n",
      "The least amount of children is: 0, the fewest amount of children is: 5 and the average amount of children is: 1.0949177877429\n",
      "The lowest charge is: 1121.8739, the highest charge is: 63770.42801 and the average charge is: 13270.422265141257 \n"
     ]
    }
   ],
   "source": [
    "person_analysis.analyse_numerical_features()"
   ]
  },
  {
   "cell_type": "code",
   "execution_count": null,
   "metadata": {},
   "outputs": [],
   "source": []
  }
 ],
 "metadata": {
  "kernelspec": {
   "display_name": "Python 3",
   "language": "python",
   "name": "python3"
  },
  "language_info": {
   "codemirror_mode": {
    "name": "ipython",
    "version": 3
   },
   "file_extension": ".py",
   "mimetype": "text/x-python",
   "name": "python",
   "nbconvert_exporter": "python",
   "pygments_lexer": "ipython3",
   "version": "3.8.8"
  }
 },
 "nbformat": 4,
 "nbformat_minor": 4
}
